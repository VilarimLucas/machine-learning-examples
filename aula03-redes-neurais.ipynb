{
 "cells": [
  {
   "cell_type": "code",
   "execution_count": 16,
   "metadata": {},
   "outputs": [
    {
     "name": "stdout",
     "output_type": "stream",
     "text": [
      "Saída:  1 Desejado:  0 interações:  1 peso 0.5\n",
      "Saída:  0 Desejado:  0 interações:  2 peso 0.51\n",
      "A rede Aprendeu\n"
     ]
    }
   ],
   "source": [
    "# perceptron: rede neural com um neurônio principal\n",
    "\n",
    "import math\n",
    "#neurônio de entrada\n",
    "input   =   0\n",
    "\n",
    "#neurônio de saída\n",
    "output_desired =   0\n",
    "\n",
    "#peso\n",
    "input_weight = 0.5\n",
    "\n",
    "# taxa de aprendizado\n",
    "learning_rate   =   0.01\n",
    "\n",
    "#função de ativação\n",
    "def activation(sum):\n",
    "    if sum>=0:\n",
    "        return 1\n",
    "    else:\n",
    "        return 0\n",
    "\n",
    "#somatório\n",
    "\n",
    "# definindo um valor infinito\n",
    "error=math.inf\n",
    "\n",
    "interacoes=0\n",
    "\n",
    "bias=1\n",
    "\n",
    "bias_weight=0.5\n",
    "\n",
    "while not error==0:\n",
    "    interacoes  +=  1\n",
    "\n",
    "    sum = input * input_weight+(    bias    *   bias_weight )\n",
    "\n",
    "    # chamamos a função de ativação. Se a mesma retornar 0 (output_desire !=0),\n",
    "    # o erro entra em ação e repete-se o calculo atualizando o peso\n",
    "    # se retornar 1, a saída está correta (nesse exemplo, output_desire = 0)\n",
    "    output  = activation(sum)\n",
    "\n",
    "    print (\"Saída: \", output, \"Desejado: \", output_desired, \"interações: \",interacoes,\"peso\",input_weight)\n",
    "\n",
    "    error   =  output_desired    -   output\n",
    "\n",
    "    #learning_rate: taxa de aprendizado\n",
    "\n",
    "    if not error == 0:\n",
    "        input_weight    =   input_weight    +   learning_rate   *  input *  error\n",
    "        bias_weight=bias_weight+learning_rate*bias*error\n",
    "print(\"A rede Aprendeu\")"
   ]
  }
 ],
 "metadata": {
  "kernelspec": {
   "display_name": ".venv",
   "language": "python",
   "name": "python3"
  },
  "language_info": {
   "codemirror_mode": {
    "name": "ipython",
    "version": 3
   },
   "file_extension": ".py",
   "mimetype": "text/x-python",
   "name": "python",
   "nbconvert_exporter": "python",
   "pygments_lexer": "ipython3",
   "version": "3.10.11"
  }
 },
 "nbformat": 4,
 "nbformat_minor": 2
}
